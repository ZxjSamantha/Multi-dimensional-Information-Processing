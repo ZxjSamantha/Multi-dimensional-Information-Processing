{
 "cells": [
  {
   "cell_type": "markdown",
   "metadata": {
    "colab_type": "text",
    "id": "i2Kx0BQi37E1"
   },
   "source": [
    "# Ex. 2 エントロピーの計算\n",
    "\n",
    "課題：読み込んだ画像(pepper.png)を情報源とみなし，画素値(0から255の整数値）をシンボルとみなしたときのエントロピーを計算せよ．このとき，各シンボルの発生確率は生起頻度を正規化することで得よ．答えは約$7.6$ [bit]となるはずである．\n",
    "\n"
   ]
  },
  {
   "cell_type": "code",
   "execution_count": null,
   "metadata": {
    "colab": {
     "base_uri": "https://localhost:8080/",
     "height": 119
    },
    "colab_type": "code",
    "id": "nn8Wn0Ny3Cco",
    "outputId": "33224205-3a44-4bff-af89-fa69d99be8d8"
   },
   "outputs": [
    {
     "name": "stdout",
     "output_type": "stream",
     "text": [
      "Cloning into 'standard_images'...\n",
      "remote: Enumerating objects: 10, done.\u001b[K\n",
      "remote: Counting objects: 100% (10/10), done.\u001b[K\n",
      "remote: Compressing objects: 100% (8/8), done.\u001b[K\n",
      "remote: Total 10 (delta 0), reused 0 (delta 0), pack-reused 0\u001b[K\n",
      "Unpacking objects: 100% (10/10), done.\n"
     ]
    }
   ],
   "source": [
    "!git clone https://github.com/mdipcit/standard_images/\n"
   ]
  },
  {
   "cell_type": "code",
   "execution_count": null,
   "metadata": {
    "colab": {
     "base_uri": "https://localhost:8080/",
     "height": 34
    },
    "colab_type": "code",
    "id": "EXa5fnyG5qQE",
    "outputId": "fa0e66a6-b752-4def-a037-7323fed8c95a"
   },
   "outputs": [
    {
     "name": "stdout",
     "output_type": "stream",
     "text": [
      "/content/standard_images\n"
     ]
    }
   ],
   "source": [
    "cd standard_images/"
   ]
  },
  {
   "cell_type": "code",
   "execution_count": null,
   "metadata": {
    "colab": {},
    "colab_type": "code",
    "id": "GRp-ByTk2hYF"
   },
   "outputs": [],
   "source": [
    "import numpy as np \n",
    "from PIL import Image\n",
    "import matplotlib.pyplot as plt"
   ]
  },
  {
   "cell_type": "code",
   "execution_count": null,
   "metadata": {
    "colab": {
     "base_uri": "https://localhost:8080/",
     "height": 34
    },
    "colab_type": "code",
    "id": "rk0c79Lm3BSw",
    "outputId": "d77ea5e3-0d41-4c1f-a0c7-4d8d10eae11d"
   },
   "outputs": [
    {
     "data": {
      "text/plain": [
       "256"
      ]
     },
     "execution_count": 4,
     "metadata": {
      "tags": []
     },
     "output_type": "execute_result"
    }
   ],
   "source": [
    "im = Image.open('pepper.png')\n",
    "im = np.asarray(im)\n",
    "im.shape[0]"
   ]
  },
  {
   "cell_type": "code",
   "execution_count": null,
   "metadata": {
    "colab": {
     "base_uri": "https://localhost:8080/",
     "height": 265
    },
    "colab_type": "code",
    "id": "cTE7tdGzM73C",
    "outputId": "a3dae872-6e0e-4655-e0bb-1188b63f34dd"
   },
   "outputs": [
    {
     "data": {
      "image/png": "[encoded data removed]",
      "text/plain": [
       "<Figure size 432x288 with 1 Axes>"
      ]
     },
     "metadata": {
      "needs_background": "light",
      "tags": []
     },
     "output_type": "display_data"
    }
   ],
   "source": [
    "hist, bins = np.histogram(im.ravel(), 256, [0,256])\n",
    "plt.hist(im.ravel(),256,[0,256])\n",
    "plt.show()\n"
   ]
  },
  {
   "cell_type": "code",
   "execution_count": null,
   "metadata": {
    "colab": {},
    "colab_type": "code",
    "id": "CuD6LAATD7cY"
   },
   "outputs": [],
   "source": [
    "def calcEntropy(img):\n",
    "    pixels = []\n",
    "    for i in range(256):\n",
    "        pixels.append(0)\n",
    "  \n",
    "  val = 0\n",
    "  entropy = 0\n",
    "\n",
    "  for i in range(img.shape[0]):\n",
    "    for j in range(len(img[i])):\n",
    "      val = img[i][j]\n",
    "      pixels[val] = float(pixels[val] + 1)\n",
    "      #Calculate the frequency of the corresponding value \n",
    "      \n",
    "  \n",
    "  # Calculate the probability of values \n",
    "  for i in range(len(pixels)):\n",
    "    pixels[i] = float(pixels[i] / (img.shape[0]*img.shape[1]))\n",
    "\n",
    "  for i in range(len(pixels)):\n",
    "    if(pixels[i] == 0):\n",
    "      entropy = entropy \n",
    "    else:\n",
    "      entropy = float(entropy - pixels[i]*(np.log(pixels[i])/np.log(2.0)))\n",
    "  \n",
    "  return entropy\n",
    "\n",
    "\n",
    "  "
   ]
  },
  {
   "cell_type": "code",
   "execution_count": null,
   "metadata": {
    "colab": {
     "base_uri": "https://localhost:8080/",
     "height": 34
    },
    "colab_type": "code",
    "id": "VeLjxhbQL4Ss",
    "outputId": "311e76ec-c497-4023-ad3f-180de75f5565"
   },
   "outputs": [
    {
     "name": "stdout",
     "output_type": "stream",
     "text": [
      "7.633479825985054\n"
     ]
    }
   ],
   "source": [
    "entropy_im = calcEntropy(im)\n",
    "print(entropy_im)"
   ]
  }
 ],
 "metadata": {
  "colab": {
   "collapsed_sections": [],
   "name": "“titech_ex2_Entropy_hint.ipynb”的副本",
   "provenance": []
  },
  "kernelspec": {
   "display_name": "Python 3",
   "language": "python",
   "name": "python3"
  },
  "language_info": {
   "codemirror_mode": {
    "name": "ipython",
    "version": 3
   },
   "file_extension": ".py",
   "mimetype": "text/x-python",
   "name": "python",
   "nbconvert_exporter": "python",
   "pygments_lexer": "ipython3",
   "version": "3.7.6"
  }
 },
 "nbformat": 4,
 "nbformat_minor": 1
}
